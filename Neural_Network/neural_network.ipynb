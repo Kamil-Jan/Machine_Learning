{
 "cells": [
  {
   "cell_type": "code",
   "execution_count": 1,
   "metadata": {},
   "outputs": [],
   "source": [
    "import numpy as np\n",
    "import matplotlib.pyplot as plt"
   ]
  },
  {
   "cell_type": "code",
   "execution_count": 2,
   "metadata": {},
   "outputs": [],
   "source": [
    "class Neural_Network():\n",
    "    \"\"\"\n",
    "    Neural Network with one hidden layer.\n",
    "    \"\"\"\n",
    "    def __init__(self, input_shape: int, hidden_layer_size: int, output_layer_size: int):\n",
    "        self.input_shape = input_shape\n",
    "        self.hidden_layer_size = hidden_layer_size\n",
    "        self.output_layer_size = output_layer_size\n",
    "\n",
    "        self.theta1 = self.generate_thetas(hidden_layer_size, input_shape + 1)\n",
    "        self.theta2 = self.generate_thetas(output_layer_size, hidden_layer_size + 1)\n",
    "\n",
    "    def generate_thetas(self, m: int, n: int):\n",
    "        \"\"\"\n",
    "        Generates weights for a layer of neural network.\n",
    "        Returns random matrix with size m x n.\n",
    "        \n",
    "        :m - number of units in the next layer\n",
    "        :n - number of units in the current layer + 1\n",
    "        \"\"\"\n",
    "        return np.random.normal(size=(m, n))\n",
    "\n",
    "    def sigmoid(self, z):\n",
    "        \"\"\"\n",
    "        Activation function.\n",
    "        \n",
    "        :z - integer, matrix or vector\n",
    "        \"\"\"\n",
    "        return 1 / (1 + np.exp(-z))\n",
    "\n",
    "    def sigmoid_gradient(self, z):\n",
    "        \"\"\"\n",
    "        Calculates gradient of activation function.\n",
    "        \n",
    "        :z - integer, matrix or vector\n",
    "        \"\"\"\n",
    "        sig = self.sigmoid(z)\n",
    "        return sig * (1 - sig)\n",
    "\n",
    "    def predict(self, X):\n",
    "        \"\"\"\n",
    "        Predicts the corresponding y value for X.\n",
    "        Returns predictions array.\n",
    "        \n",
    "        :X - example matrix\n",
    "        \"\"\"\n",
    "        m = len(X)\n",
    "        \n",
    "        h1 = self.sigmoid( np.c_[np.ones((m, 1)), X].dot(self.theta1.T) )\n",
    "        h2 = self.sigmoid( np.c_[np.ones((m, 1)), h1].dot(self.theta2.T) )\n",
    "        return h2\n",
    "\n",
    "\n",
    "    def backpropagation(self, X, y, learning_rate, lambda_val):\n",
    "        \"\"\"\n",
    "        Calculates the cost and gradient of the cost function.\n",
    "        Returns cost value\n",
    "        \n",
    "        :X, y - training set\n",
    "        :learning_rate - step of gradient descent\n",
    "        :lambda_val - regularization parameter\n",
    "        \"\"\"\n",
    "        m = len(X)\n",
    "        shape = (*X.shape[:-1], 1)\n",
    "        X = np.c_[np.ones(shape), X]\n",
    "\n",
    "        J = 0\n",
    "        theta1_grad = np.zeros(self.theta1.shape)\n",
    "        theta2_grad = np.zeros(self.theta2.shape)\n",
    "\n",
    "        for i in range(m):\n",
    "            a1 = X[i,:].T\n",
    "            z2 = self.theta1.dot(a1)\n",
    "            a2 = self.sigmoid(z2)\n",
    "            a2 = np.r_[np.ones((1, 1)), a2]\n",
    "\n",
    "            z3 = self.theta2.dot(a2)\n",
    "            a3 = self.sigmoid(z3)\n",
    "            \n",
    "            output = np.zeros((self.output_layer_size, 1))\n",
    "            output[y[i]] = 1\n",
    "            \n",
    "            cost = (1 / m) * sum( -output * np.log(a3) - (1 - output) * np.log(1 - a3) )\n",
    "            J += cost\n",
    "            \n",
    "            delta3 = a3 - output\n",
    "            delta2 = (self.theta2.T.dot(delta3))[1:] * self.sigmoid_gradient(z2)\n",
    "            theta2_grad += delta3.dot(a2.T)\n",
    "            theta1_grad += delta2.dot(a1.T)\n",
    "        \n",
    "        theta1_sum = sum( self.theta1[:,1:].ravel() ** 2 )\n",
    "        theta2_sum = sum( self.theta2[:,1:].ravel() ** 2 )\n",
    "        t_sum = theta1_sum + theta2_sum\n",
    "        reg_part = ( lambda_val / (2 * m) ) * t_sum\n",
    "        J = J + reg_part\n",
    "\n",
    "        theta1_grad = theta1_grad / m\n",
    "        theta1_grad[:,1:] = theta1_grad[:,1:] + (lambda_val / m) * self.theta1[:,1:]\n",
    "        theta2_grad = theta2_grad / m\n",
    "        theta2_grad[:,1:] = theta2_grad[:,1:] + (lambda_val / m) * self.theta2[:,1:]\n",
    "\n",
    "        self.theta1 -= learning_rate * theta1_grad\n",
    "        self.theta2 -= learning_rate * theta2_grad\n",
    "\n",
    "        return J[0]\n",
    "\n",
    "    def fit(self, X, y, learning_rate, lambda_val, epochs=15):\n",
    "        \"\"\"\n",
    "        Trains the Neural Network.\n",
    "        Returns history of cost values.\n",
    "        \n",
    "        :X, y - training set\n",
    "        :learning_rate - step of gradient descent\n",
    "        :lambda_val - regularization parameter\n",
    "        \"\"\"\n",
    "        J_history = []\n",
    "        for epoch in range(epochs):\n",
    "            new_cost = self.backpropagation(X, y, learning_rate, lambda_val)\n",
    "            J_history.append(new_cost)\n",
    "            print(f\"Epoch: {epoch + 1}. Cost: {new_cost}\")\n",
    "        \n",
    "        return J_history"
   ]
  },
  {
   "cell_type": "markdown",
   "metadata": {},
   "source": [
    "# Neural network in digit recognition task"
   ]
  },
  {
   "cell_type": "markdown",
   "metadata": {},
   "source": [
    "### Import useful modules"
   ]
  },
  {
   "cell_type": "code",
   "execution_count": 3,
   "metadata": {},
   "outputs": [],
   "source": [
    "from sklearn.datasets import load_digits\n",
    "from sklearn.model_selection import train_test_split"
   ]
  },
  {
   "cell_type": "markdown",
   "metadata": {},
   "source": [
    "### Load dataset"
   ]
  },
  {
   "cell_type": "code",
   "execution_count": 4,
   "metadata": {},
   "outputs": [
    {
     "data": {
      "text/plain": [
       "(1797, 64)"
      ]
     },
     "execution_count": 4,
     "metadata": {},
     "output_type": "execute_result"
    }
   ],
   "source": [
    "X, y = load_digits(return_X_y=True)\n",
    "\n",
    "X.shape"
   ]
  },
  {
   "cell_type": "markdown",
   "metadata": {},
   "source": [
    "### Reshape dataset so that each row contains a matrix of pixels"
   ]
  },
  {
   "cell_type": "code",
   "execution_count": 5,
   "metadata": {},
   "outputs": [
    {
     "data": {
      "text/plain": [
       "(1797, 1, 64)"
      ]
     },
     "execution_count": 5,
     "metadata": {},
     "output_type": "execute_result"
    }
   ],
   "source": [
    "X = X.reshape((len(X), 1, len(X[0])))\n",
    "X.shape"
   ]
  },
  {
   "cell_type": "markdown",
   "metadata": {},
   "source": [
    "### Let's plot a few digit images"
   ]
  },
  {
   "cell_type": "code",
   "execution_count": 6,
   "metadata": {},
   "outputs": [
    {
     "data": {
      "image/png": "[encoded data removed]",
      "text/plain": [
       "<Figure size 576x576 with 5 Axes>"
      ]
     },
     "metadata": {},
     "output_type": "display_data"
    }
   ],
   "source": [
    "plt.figure(figsize=(8, 8))\n",
    "for i in range(5):\n",
    "    plt.subplot(1, 5, i+1)\n",
    "    plt.xticks([])\n",
    "    plt.yticks([])\n",
    "    plt.grid(False)\n",
    "    plt.imshow(X[i].reshape(8, 8), cmap=plt.cm.binary)\n",
    "    plt.xlabel(y[i])\n",
    "plt.show()"
   ]
  },
  {
   "cell_type": "markdown",
   "metadata": {},
   "source": [
    "### Split dataset into train and test sets"
   ]
  },
  {
   "cell_type": "code",
   "execution_count": 7,
   "metadata": {},
   "outputs": [],
   "source": [
    "X_train, X_test, y_train, y_test = train_test_split(X, y, test_size=0.3)"
   ]
  },
  {
   "cell_type": "markdown",
   "metadata": {},
   "source": [
    "### Create an instance of Neural Network and train it"
   ]
  },
  {
   "cell_type": "code",
   "execution_count": 8,
   "metadata": {},
   "outputs": [],
   "source": [
    "nn = Neural_Network(input_shape=64, hidden_layer_size=25, output_layer_size=10)"
   ]
  },
  {
   "cell_type": "code",
   "execution_count": 9,
   "metadata": {
    "collapsed": true
   },
   "outputs": [
    {
     "name": "stdout",
     "output_type": "stream",
     "text": [
      "Epoch: 1. Cost: 17.470353519825835\n",
      "Epoch: 2. Cost: 6.281868882162658\n",
      "Epoch: 3. Cost: 5.338169529813028\n",
      "Epoch: 4. Cost: 4.744091578615786\n",
      "Epoch: 5. Cost: 4.392523577104829\n",
      "Epoch: 6. Cost: 4.139805993593827\n",
      "Epoch: 7. Cost: 3.9763373112314593\n",
      "Epoch: 8. Cost: 3.8749540384901318\n",
      "Epoch: 9. Cost: 3.785102949849671\n",
      "Epoch: 10. Cost: 3.7176906566854573\n",
      "Epoch: 11. Cost: 3.6444840885647287\n",
      "Epoch: 12. Cost: 3.5757754427319135\n",
      "Epoch: 13. Cost: 3.509743906078275\n",
      "Epoch: 14. Cost: 3.4463195599108145\n",
      "Epoch: 15. Cost: 3.391411979404269\n",
      "Epoch: 16. Cost: 3.344748437525854\n",
      "Epoch: 17. Cost: 3.291739148699787\n",
      "Epoch: 18. Cost: 3.2460523530156413\n",
      "Epoch: 19. Cost: 3.206095343800964\n",
      "Epoch: 20. Cost: 3.1475188136369323\n",
      "Epoch: 21. Cost: 3.1091288412754046\n",
      "Epoch: 22. Cost: 3.0720510057711703\n",
      "Epoch: 23. Cost: 3.0342897118521326\n",
      "Epoch: 24. Cost: 2.996197571555579\n",
      "Epoch: 25. Cost: 2.959706445483438\n",
      "Epoch: 26. Cost: 2.930117759689254\n",
      "Epoch: 27. Cost: 2.8993241095254727\n",
      "Epoch: 28. Cost: 2.8710667652609434\n",
      "Epoch: 29. Cost: 2.848747166985516\n",
      "Epoch: 30. Cost: 2.8203551682970502\n",
      "Epoch: 31. Cost: 2.791742371758448\n",
      "Epoch: 32. Cost: 2.7672054325022293\n",
      "Epoch: 33. Cost: 2.738872374410602\n",
      "Epoch: 34. Cost: 2.713461390651917\n",
      "Epoch: 35. Cost: 2.6892772707385864\n",
      "Epoch: 36. Cost: 2.6614765326206107\n",
      "Epoch: 37. Cost: 2.637214045308658\n",
      "Epoch: 38. Cost: 2.6127253265816255\n",
      "Epoch: 39. Cost: 2.5887172340475426\n",
      "Epoch: 40. Cost: 2.5652540389262404\n",
      "Epoch: 41. Cost: 2.544807552562311\n",
      "Epoch: 42. Cost: 2.5258110758831407\n",
      "Epoch: 43. Cost: 2.509426214702585\n",
      "Epoch: 44. Cost: 2.484494897972309\n",
      "Epoch: 45. Cost: 2.4687361007370514\n",
      "Epoch: 46. Cost: 2.447249239328998\n",
      "Epoch: 47. Cost: 2.4330357498760216\n",
      "Epoch: 48. Cost: 2.409083997733612\n",
      "Epoch: 49. Cost: 2.3902525683758697\n",
      "Epoch: 50. Cost: 2.374013241546974\n",
      "Epoch: 51. Cost: 2.361447065115856\n",
      "Epoch: 52. Cost: 2.3369024099655062\n",
      "Epoch: 53. Cost: 2.3175448196307773\n",
      "Epoch: 54. Cost: 2.305052890607647\n",
      "Epoch: 55. Cost: 2.2926958521847083\n",
      "Epoch: 56. Cost: 2.2709953437182935\n",
      "Epoch: 57. Cost: 2.2618370681031985\n",
      "Epoch: 58. Cost: 2.2400848934996693\n",
      "Epoch: 59. Cost: 2.2312220310921154\n",
      "Epoch: 60. Cost: 2.2050999663096125\n",
      "Epoch: 61. Cost: 2.192548201517531\n",
      "Epoch: 62. Cost: 2.1715510186024947\n",
      "Epoch: 63. Cost: 2.1528682868781774\n",
      "Epoch: 64. Cost: 2.1397071848152107\n",
      "Epoch: 65. Cost: 2.1307527495228613\n",
      "Epoch: 66. Cost: 2.1239365914689907\n",
      "Epoch: 67. Cost: 2.104137876315705\n",
      "Epoch: 68. Cost: 2.0930173469418785\n",
      "Epoch: 69. Cost: 2.087013620160271\n",
      "Epoch: 70. Cost: 2.0864080419267825\n",
      "Epoch: 71. Cost: 2.059829664480055\n",
      "Epoch: 72. Cost: 2.0602754148463465\n",
      "Epoch: 73. Cost: 2.0345600889276483\n",
      "Epoch: 74. Cost: 2.0251134688800874\n",
      "Epoch: 75. Cost: 2.0319666834269206\n",
      "Epoch: 76. Cost: 2.0194548482049903\n",
      "Epoch: 77. Cost: 1.997196090380665\n",
      "Epoch: 78. Cost: 1.9881847663533865\n",
      "Epoch: 79. Cost: 1.9838376751315505\n",
      "Epoch: 80. Cost: 1.9828330262413778\n",
      "Epoch: 81. Cost: 1.959598090046006\n",
      "Epoch: 82. Cost: 1.9526924210417516\n",
      "Epoch: 83. Cost: 1.942033359914818\n",
      "Epoch: 84. Cost: 1.9368662055438974\n",
      "Epoch: 85. Cost: 1.9255205596387537\n",
      "Epoch: 86. Cost: 1.9177750235778719\n",
      "Epoch: 87. Cost: 1.914170315250747\n",
      "Epoch: 88. Cost: 1.898867029414732\n",
      "Epoch: 89. Cost: 1.8901473251912229\n",
      "Epoch: 90. Cost: 1.88007114657848\n",
      "Epoch: 91. Cost: 1.874798647919948\n",
      "Epoch: 92. Cost: 1.8630527232382885\n",
      "Epoch: 93. Cost: 1.8581472851285978\n",
      "Epoch: 94. Cost: 1.8478528542719839\n",
      "Epoch: 95. Cost: 1.8434614376190293\n",
      "Epoch: 96. Cost: 1.8369392299735812\n",
      "Epoch: 97. Cost: 1.8281833696008474\n",
      "Epoch: 98. Cost: 1.8214210057136633\n",
      "Epoch: 99. Cost: 1.811437239132261\n",
      "Epoch: 100. Cost: 1.8037227295185538\n"
     ]
    }
   ],
   "source": [
    "J_history = nn.fit(X_train, y_train, learning_rate=1, lambda_val=1, epochs=100)"
   ]
  },
  {
   "cell_type": "markdown",
   "metadata": {},
   "source": [
    "### Let's plot the cost change over all iterations"
   ]
  },
  {
   "cell_type": "code",
   "execution_count": 10,
   "metadata": {},
   "outputs": [
    {
     "data": {
      "image/png": "[encoded data removed]",
      "text/plain": [
       "<Figure size 432x288 with 1 Axes>"
      ]
     },
     "metadata": {
      "needs_background": "light"
     },
     "output_type": "display_data"
    }
   ],
   "source": [
    "plt.plot(J_history)\n",
    "plt.show()"
   ]
  },
  {
   "cell_type": "markdown",
   "metadata": {},
   "source": [
    "The graph quickly decreases and then flattens out after a while. This means that we have selected the correct parameters of the neural network"
   ]
  },
  {
   "cell_type": "markdown",
   "metadata": {},
   "source": [
    "### Let's plot some digits with their prediction"
   ]
  },
  {
   "cell_type": "code",
   "execution_count": 11,
   "metadata": {},
   "outputs": [
    {
     "data": {
      "image/png": "[encoded data removed]",
      "text/plain": [
       "<Figure size 864x720 with 30 Axes>"
      ]
     },
     "metadata": {
      "needs_background": "light"
     },
     "output_type": "display_data"
    }
   ],
   "source": [
    "num_rows = 5\n",
    "num_cols = 3\n",
    "num_images = num_rows * num_cols\n",
    "plt.figure(figsize=(2 * 2 * num_cols, 2 * num_rows))\n",
    "\n",
    "for i in range(num_images):\n",
    "    plt.subplot(num_rows, 2 * num_cols, 2 * i + 1)\n",
    "    plt.xticks([])\n",
    "    plt.yticks([])\n",
    "    plt.grid(False)\n",
    "    plt.imshow(X_test[i].reshape(8, 8), cmap=plt.cm.binary)\n",
    "    \n",
    "    predictions_array = nn.predict(X_test[i])\n",
    "    predicted_label = np.argmax(predictions_array)\n",
    "    true_label = y_test[i]\n",
    "    if predicted_label == true_label:\n",
    "        color = 'blue'\n",
    "    else:\n",
    "        color = 'red'\n",
    "\n",
    "    plt.xlabel(\"{} {:0.2f}%. Actual: {}\".format(predicted_label,\n",
    "                                                100*np.max(predictions_array),\n",
    "                                                true_label), color=color)\n",
    "\n",
    "    plt.subplot(num_rows, 2 * num_cols, 2 * i + 2)\n",
    "    plt.xticks(range(10))\n",
    "    plt.yticks([])\n",
    "    plt.grid(False)\n",
    "    plt.ylim([0, 1])\n",
    "    value_arr_plot = plt.bar(range(10), predictions_array[0], color=\"#777777\")\n",
    "\n",
    "    value_arr_plot[predicted_label].set_color('red')\n",
    "    value_arr_plot[true_label].set_color('blue')\n",
    "\n",
    "plt.show()"
   ]
  },
  {
   "cell_type": "markdown",
   "metadata": {},
   "source": [
    "### Let's calculate accuracy of our Neural Network"
   ]
  },
  {
   "cell_type": "code",
   "execution_count": 12,
   "metadata": {},
   "outputs": [
    {
     "name": "stdout",
     "output_type": "stream",
     "text": [
      "Accuracy: 0.8018518518518518\n"
     ]
    }
   ],
   "source": [
    "correct_pred = 0\n",
    "m = len(X_test)\n",
    "for i in range(m):\n",
    "    predict = np.argmax(nn.predict(X_test[i]))\n",
    "    if predict == y_test[i]:\n",
    "        correct_pred += 1\n",
    "accuracy = correct_pred / m\n",
    "print(f\"Accuracy: {accuracy}\")"
   ]
  }
 ],
 "metadata": {
  "kernelspec": {
   "display_name": "Python [conda env:root] *",
   "language": "python",
   "name": "conda-root-py"
  },
  "language_info": {
   "codemirror_mode": {
    "name": "ipython",
    "version": 3
   },
   "file_extension": ".py",
   "mimetype": "text/x-python",
   "name": "python",
   "nbconvert_exporter": "python",
   "pygments_lexer": "ipython3",
   "version": "3.7.7"
  }
 },
 "nbformat": 4,
 "nbformat_minor": 4
}
